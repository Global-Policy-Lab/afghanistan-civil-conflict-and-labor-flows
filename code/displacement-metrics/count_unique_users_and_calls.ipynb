{
 "cells": [
  {
   "cell_type": "code",
   "execution_count": null,
   "metadata": {},
   "outputs": [],
   "source": [
    "# Add user specific python libraries to path\n",
    "import sys\n",
    "sys.path.insert(0, \"/home/smehra/local-packages\")"
   ]
  },
  {
   "cell_type": "code",
   "execution_count": null,
   "metadata": {},
   "outputs": [],
   "source": [
    "from dask.distributed import Client, LocalCluster\n",
    "cluster = LocalCluster(dashboard_address='localhost:7920', \n",
    "                       n_workers=16, \n",
    "                       processes=True, \n",
    "                       threads_per_worker=16,\n",
    "                       memory_limit='32GB', \n",
    "                       local_directory=\"/data/tmp/smehra/tmp/dask-worker-space\")\n",
    "client = Client(cluster)\n",
    "\n",
    "import dask.dataframe as ddf\n",
    "import numpy as np\n",
    "import pandas as pd\n",
    "\n",
    "import time\n",
    "from datetime import timedelta  \n",
    "from datetime import date\n",
    "from datetime import datetime\n",
    "import datetime as dt\n",
    "\n",
    "from collections import Counter\n",
    "\n",
    "import os\n"
   ]
  },
  {
   "cell_type": "markdown",
   "metadata": {},
   "source": [
    "### Count total unique users"
   ]
  },
  {
   "cell_type": "code",
   "execution_count": null,
   "metadata": {},
   "outputs": [],
   "source": [
    "input_dir = '/data/afg_anon/daily_modal_location/using_voice_only_from_2013_to_2020/'\n",
    "spatial_granularity = 'district_level'\n",
    "\n",
    "files = []\n",
    "\n",
    "for year in os.listdir(input_dir + spatial_granularity):\n",
    "    \n",
    "    for month in os.listdir(input_dir + spatial_granularity + '/' + year):\n",
    "        \n",
    "        file_path = input_dir + spatial_granularity + '/' + year + '/' + month\n",
    "        files = files + [file_path]\n"
   ]
  },
  {
   "cell_type": "code",
   "execution_count": null,
   "metadata": {},
   "outputs": [],
   "source": [
    "data = ddf.read_csv(files,\n",
    "                    dtype = {'phoneHash1': str,\n",
    "                             'day': str,\n",
    "                             'daily_modal_location': 'int64'},\n",
    "                   usecols = ['phoneHash1'])\n",
    "\n",
    "total_unique_users = data.phoneHash1.nunique()\n",
    "\n",
    "total_unique_users = total_unique_users.compute()\n",
    "\n",
    "print(total_unique_users)"
   ]
  },
  {
   "cell_type": "markdown",
   "metadata": {},
   "source": [
    "### Count total number of calls"
   ]
  },
  {
   "cell_type": "code",
   "execution_count": null,
   "metadata": {},
   "outputs": [],
   "source": [
    "# data directories\n",
    "raw_cdr_dir = '/data/afg_anon/cdr/'\n",
    "\n",
    "# global call counter\n",
    "total_call_count = 0\n",
    "\n",
    "def update_total_call_count(file_path):\n",
    "    \n",
    "    print(str(datetime.now()) + ' computing - ' + file_path)\n",
    "    \n",
    "    num_lines = sum(1 for _ in open(file_path))\n",
    "    call_count = num_lines - 1 \n",
    "    \n",
    "    global total_call_count\n",
    "    total_call_count = total_call_count + num_lines - 1\n",
    "    \n",
    "    print(str(datetime.now()) + ' call count - ' + str(call_count))\n",
    "    print(str(datetime.now()) + ' total call count - ' + str(total_call_count) + '\\n')\n",
    "    "
   ]
  },
  {
   "cell_type": "code",
   "execution_count": null,
   "metadata": {
    "scrolled": true
   },
   "outputs": [],
   "source": [
    "for year in ['2013', '2014', '2015', '2016']:\n",
    "    \n",
    "    voice_data_dir = raw_cdr_dir + year + \"/rec/\"\n",
    "    for f in os.listdir(voice_data_dir):\n",
    "        \n",
    "        month = f[-6:-4]\n",
    "        month = \"{0:0=2d}\".format(int(month))        \n",
    "        \n",
    "        file_path = voice_data_dir + f\n",
    "        \n",
    "        update_total_call_count(file_path)\n"
   ]
  },
  {
   "cell_type": "code",
   "execution_count": null,
   "metadata": {},
   "outputs": [],
   "source": [
    "for year in ['2017']:\n",
    "\n",
    "    voice_data_dir = raw_cdr_dir + year + \"/rec_part1/\"\n",
    "    for f in os.listdir(voice_data_dir):\n",
    "        \n",
    "        month = f[-6:-4]\n",
    "        month = \"{0:0=2d}\".format(int(month))        \n",
    "        \n",
    "        file_path = voice_data_dir + f\n",
    "        \n",
    "        update_total_call_count(file_path)\n",
    "\n",
    "    voice_data_dir = raw_cdr_dir + year + \"/rec_part2/\"\n",
    "    for f in os.listdir(voice_data_dir):\n",
    "        \n",
    "        month = f[-6:-4]\n",
    "        month = \"{0:0=2d}\".format(int(month))        \n",
    "        \n",
    "        file_path = voice_data_dir + f\n",
    "        \n",
    "        update_total_call_count(file_path)\n",
    "        "
   ]
  },
  {
   "cell_type": "code",
   "execution_count": null,
   "metadata": {},
   "outputs": [],
   "source": [
    "for year in ['2018']:\n",
    "\n",
    "    voice_data_dir = raw_cdr_dir + year + \"/rec/\"\n",
    "    for f in os.listdir(voice_data_dir):\n",
    "        \n",
    "        month = f[4:6]\n",
    "        month = \"{0:0=2d}\".format(int(month))        \n",
    "        \n",
    "        file_path = voice_data_dir + f\n",
    "        \n",
    "        update_total_call_count(file_path)\n"
   ]
  },
  {
   "cell_type": "code",
   "execution_count": null,
   "metadata": {},
   "outputs": [],
   "source": [
    "for year in ['2019', '2020']:\n",
    "    \n",
    "    voice_data_dir = raw_cdr_dir + year + \"/rec/\"\n",
    "    for f in os.listdir(voice_data_dir):\n",
    "        \n",
    "        month = f[-6:-4]\n",
    "        month = \"{0:0=2d}\".format(int(month))        \n",
    "        \n",
    "        file_path = voice_data_dir + f\n",
    "        \n",
    "        update_total_call_count(file_path)\n",
    "        "
   ]
  },
  {
   "cell_type": "code",
   "execution_count": null,
   "metadata": {},
   "outputs": [],
   "source": []
  }
 ],
 "metadata": {
  "kernelspec": {
   "display_name": "Python [conda env:.conda-smehra_dask]",
   "language": "python",
   "name": "conda-env-.conda-smehra_dask-py"
  },
  "language_info": {
   "codemirror_mode": {
    "name": "ipython",
    "version": 3
   },
   "file_extension": ".py",
   "mimetype": "text/x-python",
   "name": "python",
   "nbconvert_exporter": "python",
   "pygments_lexer": "ipython3",
   "version": "3.7.6"
  }
 },
 "nbformat": 4,
 "nbformat_minor": 4
}
