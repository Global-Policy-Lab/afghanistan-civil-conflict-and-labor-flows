{
 "cells": [
  {
   "cell_type": "code",
   "execution_count": 1,
   "metadata": {},
   "outputs": [],
   "source": [
    "# Add user specific python libraries to path\n",
    "import sys\n",
    "sys.path.insert(0, \"/home/smehra/local-packages\")"
   ]
  },
  {
   "cell_type": "code",
   "execution_count": 2,
   "metadata": {},
   "outputs": [],
   "source": [
    "import multiprocessing as mp\n",
    "\n",
    "#import dask.dataframe as dd\n",
    "import numpy as np\n",
    "import pandas as pd\n",
    "import geopandas as gpd\n",
    "\n",
    "# enable automated generational garbage collection\n",
    "import gc\n",
    "gc.enable()\n",
    "\n",
    "import time, os\n",
    "from datetime import timedelta  \n",
    "from datetime import date\n",
    "from datetime import datetime\n"
   ]
  },
  {
   "cell_type": "code",
   "execution_count": 3,
   "metadata": {},
   "outputs": [],
   "source": [
    "import logging\n",
    "\n",
    "# setup logging to a specified file\n",
    "log_file = '/data/tmp/smehra/logs/migration_metrics_computation.log'\n",
    "logging.basicConfig(filename=log_file,\n",
    "                            filemode='a+',\n",
    "                            format='%(asctime)s %(levelname)s %(message)s',\n",
    "                            datefmt='%Y-%m-%d %H:%M:%S',\n",
    "                            level=logging.INFO)\n",
    "logger=logging.getLogger(__name__)\n"
   ]
  },
  {
   "cell_type": "markdown",
   "metadata": {},
   "source": [
    "## Get users for each district - day"
   ]
  },
  {
   "cell_type": "code",
   "execution_count": 4,
   "metadata": {},
   "outputs": [
    {
     "data": {
      "text/html": [
       "<div>\n",
       "<style scoped>\n",
       "    .dataframe tbody tr th:only-of-type {\n",
       "        vertical-align: middle;\n",
       "    }\n",
       "\n",
       "    .dataframe tbody tr th {\n",
       "        vertical-align: top;\n",
       "    }\n",
       "\n",
       "    .dataframe thead th {\n",
       "        text-align: right;\n",
       "    }\n",
       "</style>\n",
       "<table border=\"1\" class=\"dataframe\">\n",
       "  <thead>\n",
       "    <tr style=\"text-align: right;\">\n",
       "      <th></th>\n",
       "      <th>phoneHash1</th>\n",
       "      <th>day</th>\n",
       "      <th>home_location</th>\n",
       "    </tr>\n",
       "  </thead>\n",
       "  <tbody>\n",
       "    <tr>\n",
       "      <th>0</th>\n",
       "      <td>DxOvqKO100GmqeLX</td>\n",
       "      <td>2013-04-01</td>\n",
       "      <td>607</td>\n",
       "    </tr>\n",
       "    <tr>\n",
       "      <th>1</th>\n",
       "      <td>DxOvqKO104AYqeLX</td>\n",
       "      <td>2013-04-01</td>\n",
       "      <td>2201</td>\n",
       "    </tr>\n",
       "    <tr>\n",
       "      <th>2</th>\n",
       "      <td>DxOvqKO104MGqeLX</td>\n",
       "      <td>2013-04-01</td>\n",
       "      <td>2201</td>\n",
       "    </tr>\n",
       "    <tr>\n",
       "      <th>3</th>\n",
       "      <td>DxOvqKO104ZJqeLX</td>\n",
       "      <td>2013-04-01</td>\n",
       "      <td>2201</td>\n",
       "    </tr>\n",
       "    <tr>\n",
       "      <th>4</th>\n",
       "      <td>DxOvqKO104eyqeLX</td>\n",
       "      <td>2013-04-01</td>\n",
       "      <td>301</td>\n",
       "    </tr>\n",
       "  </tbody>\n",
       "</table>\n",
       "</div>"
      ],
      "text/plain": [
       "         phoneHash1         day  home_location\n",
       "0  DxOvqKO100GmqeLX  2013-04-01            607\n",
       "1  DxOvqKO104AYqeLX  2013-04-01           2201\n",
       "2  DxOvqKO104MGqeLX  2013-04-01           2201\n",
       "3  DxOvqKO104ZJqeLX  2013-04-01           2201\n",
       "4  DxOvqKO104eyqeLX  2013-04-01            301"
      ]
     },
     "execution_count": 4,
     "metadata": {},
     "output_type": "execute_result"
    }
   ],
   "source": [
    "def pd_read_csv(fname):\n",
    "    \n",
    "    return pd.read_csv(fname,\n",
    "                       dtype = {'phoneHash1': object,\n",
    "                                'home_location': 'int16',\n",
    "                                'day': object})\n",
    "\n",
    "\n",
    "user_location_directory = '/data/afg_anon/displacement_metrics/home_locations/daily_modal_voice_only_2013-2020_version/'\n",
    "filepaths = [user_location_directory + f for f in os.listdir(user_location_directory)]\n",
    "\n",
    "user_locations = pd.concat(map(pd_read_csv, filepaths), ignore_index=True)\n",
    "user_locations.head()\n"
   ]
  },
  {
   "cell_type": "code",
   "execution_count": null,
   "metadata": {},
   "outputs": [],
   "source": [
    "# get users per district - day in a set\n",
    "\n",
    "users_per_district_day = user_locations.groupby(['home_location', 'day'])['phoneHash1'].apply(set)\n",
    "\n",
    "users_per_district_day = users_per_district_day.reset_index()\n",
    "\n",
    "users_per_district_day.head()\n"
   ]
  },
  {
   "cell_type": "code",
   "execution_count": null,
   "metadata": {},
   "outputs": [],
   "source": [
    "# convert dates to day series\n",
    "\n",
    "users_per_district_day['day'] = pd.to_datetime(users_per_district_day.day, format='%Y-%m-%d', errors='coerce')\n",
    "\n",
    "users_per_district_day['day_series'] = users_per_district_day['day'].dt.date.apply(lambda d: (d - date(2013,3,31)).days)\n",
    "\n",
    "users_per_district_day.head()\n"
   ]
  },
  {
   "cell_type": "code",
   "execution_count": null,
   "metadata": {},
   "outputs": [],
   "source": [
    "# rename and reorder columns\n",
    "\n",
    "users_per_district_day.rename(columns = {'home_location': 'district_id', 'phoneHash1': 'active_users'}, inplace = True)\n",
    "\n",
    "users_per_district_day = users_per_district_day[['day_series', 'district_id', 'active_users']]\n",
    "\n",
    "users_per_district_day.head()\n"
   ]
  },
  {
   "cell_type": "code",
   "execution_count": 7,
   "metadata": {},
   "outputs": [
    {
     "data": {
      "text/plain": [
       "20"
      ]
     },
     "execution_count": 7,
     "metadata": {},
     "output_type": "execute_result"
    }
   ],
   "source": [
    "del user_locations\n",
    "gc.collect()"
   ]
  },
  {
   "cell_type": "code",
   "execution_count": 10,
   "metadata": {},
   "outputs": [
    {
     "data": {
      "text/html": [
       "<div>\n",
       "<style scoped>\n",
       "    .dataframe tbody tr th:only-of-type {\n",
       "        vertical-align: middle;\n",
       "    }\n",
       "\n",
       "    .dataframe tbody tr th {\n",
       "        vertical-align: top;\n",
       "    }\n",
       "\n",
       "    .dataframe thead th {\n",
       "        text-align: right;\n",
       "    }\n",
       "</style>\n",
       "<table border=\"1\" class=\"dataframe\">\n",
       "  <thead>\n",
       "    <tr style=\"text-align: right;\">\n",
       "      <th></th>\n",
       "      <th>district_id</th>\n",
       "      <th>day_series</th>\n",
       "      <th>active_users</th>\n",
       "    </tr>\n",
       "  </thead>\n",
       "  <tbody>\n",
       "    <tr>\n",
       "      <th>0</th>\n",
       "      <td>101</td>\n",
       "      <td>1</td>\n",
       "      <td>{EmOKlkoz7Bbelp1A, DxOvqKOAd7wWqeLX, 305xqe0Vp...</td>\n",
       "    </tr>\n",
       "    <tr>\n",
       "      <th>1</th>\n",
       "      <td>101</td>\n",
       "      <td>2</td>\n",
       "      <td>{EmOKlkoz7Bbelp1A, DxOvqKOAd7wWqeLX, 305xqe0Vp...</td>\n",
       "    </tr>\n",
       "    <tr>\n",
       "      <th>2</th>\n",
       "      <td>101</td>\n",
       "      <td>3</td>\n",
       "      <td>{EmOKlkoz7Bbelp1A, DxOvqKOAd7wWqeLX, DxOvqKO1x...</td>\n",
       "    </tr>\n",
       "    <tr>\n",
       "      <th>3</th>\n",
       "      <td>101</td>\n",
       "      <td>4</td>\n",
       "      <td>{EmOKlkoz7Bbelp1A, DxOvqKOAd7wWqeLX, DxOvqKO1x...</td>\n",
       "    </tr>\n",
       "    <tr>\n",
       "      <th>4</th>\n",
       "      <td>101</td>\n",
       "      <td>5</td>\n",
       "      <td>{EmOKlkoz7Bbelp1A, DxOvqKOAd7wWqeLX, DxOvqKO1x...</td>\n",
       "    </tr>\n",
       "  </tbody>\n",
       "</table>\n",
       "</div>"
      ],
      "text/plain": [
       "   district_id  day_series                                       active_users\n",
       "0          101           1  {EmOKlkoz7Bbelp1A, DxOvqKOAd7wWqeLX, 305xqe0Vp...\n",
       "1          101           2  {EmOKlkoz7Bbelp1A, DxOvqKOAd7wWqeLX, 305xqe0Vp...\n",
       "2          101           3  {EmOKlkoz7Bbelp1A, DxOvqKOAd7wWqeLX, DxOvqKO1x...\n",
       "3          101           4  {EmOKlkoz7Bbelp1A, DxOvqKOAd7wWqeLX, DxOvqKO1x...\n",
       "4          101           5  {EmOKlkoz7Bbelp1A, DxOvqKOAd7wWqeLX, DxOvqKO1x..."
      ]
     },
     "execution_count": 10,
     "metadata": {},
     "output_type": "execute_result"
    }
   ],
   "source": [
    "# ensure we have a row for all permutations of district - day.\n",
    "\n",
    "# get a list of day_series values\n",
    "days = pd.DataFrame({'day_series': np.arange(1, 2771, 1).tolist()}) \n",
    "\n",
    "# get a list of district ids\n",
    "district_ids = sorted(gpd.read_file('/data/afg_anon/ShapeFiles/AFG_district_398/district398.shp').DISTID.tolist())\n",
    "districts = pd.DataFrame({'district_id': district_ids}) \n",
    "\n",
    "# get all district - day_series pairs in a dataframe\n",
    "district_day_all_permutations_df = districts.assign(dummy_col = 1).merge(days.assign(dummy_col = 1), how = 'outer').drop(columns = [\"dummy_col\"])\n",
    "district_day_all_permutations_list = district_day_all_permutations_df.to_numpy().tolist()\n",
    "\n",
    "# merge all district - day_series pairs to respective active_users\n",
    "users_per_district_day = district_day_all_permutations_df.merge(users_per_district_day, on = ['district_id', 'day_series'], how = 'left')\n",
    "\n",
    "users_per_district_day.head()\n"
   ]
  },
  {
   "cell_type": "code",
   "execution_count": 11,
   "metadata": {},
   "outputs": [
    {
     "data": {
      "text/html": [
       "<div>\n",
       "<style scoped>\n",
       "    .dataframe tbody tr th:only-of-type {\n",
       "        vertical-align: middle;\n",
       "    }\n",
       "\n",
       "    .dataframe tbody tr th {\n",
       "        vertical-align: top;\n",
       "    }\n",
       "\n",
       "    .dataframe thead th {\n",
       "        text-align: right;\n",
       "    }\n",
       "</style>\n",
       "<table border=\"1\" class=\"dataframe\">\n",
       "  <thead>\n",
       "    <tr style=\"text-align: right;\">\n",
       "      <th></th>\n",
       "      <th>district_id</th>\n",
       "      <th>day_series</th>\n",
       "      <th>active_users</th>\n",
       "    </tr>\n",
       "  </thead>\n",
       "  <tbody>\n",
       "    <tr>\n",
       "      <th>0</th>\n",
       "      <td>101</td>\n",
       "      <td>1</td>\n",
       "      <td>{EmOKlkoz7Bbelp1A, DxOvqKOAd7wWqeLX, 305xqe0Vp...</td>\n",
       "    </tr>\n",
       "    <tr>\n",
       "      <th>1</th>\n",
       "      <td>101</td>\n",
       "      <td>2</td>\n",
       "      <td>{EmOKlkoz7Bbelp1A, DxOvqKOAd7wWqeLX, 305xqe0Vp...</td>\n",
       "    </tr>\n",
       "    <tr>\n",
       "      <th>2</th>\n",
       "      <td>101</td>\n",
       "      <td>3</td>\n",
       "      <td>{EmOKlkoz7Bbelp1A, DxOvqKOAd7wWqeLX, DxOvqKO1x...</td>\n",
       "    </tr>\n",
       "    <tr>\n",
       "      <th>3</th>\n",
       "      <td>101</td>\n",
       "      <td>4</td>\n",
       "      <td>{EmOKlkoz7Bbelp1A, DxOvqKOAd7wWqeLX, DxOvqKO1x...</td>\n",
       "    </tr>\n",
       "    <tr>\n",
       "      <th>4</th>\n",
       "      <td>101</td>\n",
       "      <td>5</td>\n",
       "      <td>{EmOKlkoz7Bbelp1A, DxOvqKOAd7wWqeLX, DxOvqKO1x...</td>\n",
       "    </tr>\n",
       "  </tbody>\n",
       "</table>\n",
       "</div>"
      ],
      "text/plain": [
       "   district_id  day_series                                       active_users\n",
       "0          101           1  {EmOKlkoz7Bbelp1A, DxOvqKOAd7wWqeLX, 305xqe0Vp...\n",
       "1          101           2  {EmOKlkoz7Bbelp1A, DxOvqKOAd7wWqeLX, 305xqe0Vp...\n",
       "2          101           3  {EmOKlkoz7Bbelp1A, DxOvqKOAd7wWqeLX, DxOvqKO1x...\n",
       "3          101           4  {EmOKlkoz7Bbelp1A, DxOvqKOAd7wWqeLX, DxOvqKO1x...\n",
       "4          101           5  {EmOKlkoz7Bbelp1A, DxOvqKOAd7wWqeLX, DxOvqKO1x..."
      ]
     },
     "execution_count": 11,
     "metadata": {},
     "output_type": "execute_result"
    }
   ],
   "source": [
    "# convert no user values to empty set\n",
    "\n",
    "users_per_district_day['active_users'] = users_per_district_day.active_users.apply(lambda u: set() if u != u else u)\n",
    "\n",
    "users_per_district_day.head()\n"
   ]
  },
  {
   "cell_type": "markdown",
   "metadata": {},
   "source": [
    "## Compute visits per district day"
   ]
  },
  {
   "cell_type": "code",
   "execution_count": null,
   "metadata": {},
   "outputs": [],
   "source": [
    "def get_total_migrated_after_time_delta(origin_district, impact_day, impacted_users, total_impacted, time_delta):\n",
    "\n",
    "    if(((impact_day + time_delta) > 2770) or (total_impacted == 0)):\n",
    "        \n",
    "        empty_df = pd.DataFrame(np.NaN, columns=[\"migrated\"], index=district_ids)\n",
    "        return empty_df.to_dict()['migrated']\n",
    "    \n",
    "    users_in_other_districts_after_time_delta = users_per_district_day[(users_per_district_day.day_series == (impact_day + time_delta))].copy()\n",
    "\n",
    "    users_in_other_districts_after_time_delta['migrated'] = users_in_other_districts_after_time_delta.active_users.apply(lambda migrated: len(impacted_users.intersection(migrated)))\n",
    "    \n",
    "    users_in_other_districts_after_time_delta.set_index('district_id', inplace = True)\n",
    "    \n",
    "    return users_in_other_districts_after_time_delta[['migrated']].to_dict()['migrated']\n",
    "    \n",
    "\n",
    "def get_migration_metrics(district_day):\n",
    "    \n",
    "    origin_district = district_day[0]\n",
    "    impact_day = district_day[1]\n",
    "    \n",
    "    logger.info('origin_district: ' + str(origin_district)  + '. impact_day: ' + str(impact_day))\n",
    "    \n",
    "    impacted_users = users_per_district_day[(users_per_district_day.district_id == origin_district) & \n",
    "                                            (users_per_district_day.day_series == impact_day)].active_users.item()\n",
    "    total_impacted = len(impacted_users)\n",
    "\n",
    "    summary = get_total_migrated_after_time_delta(origin_district, impact_day, impacted_users, total_impacted, time_delta)\n",
    "    \n",
    "    summary['origin_district'] = origin_district\n",
    "    summary['impact_day'] = impact_day\n",
    "    summary['impacted'] = total_impacted\n",
    "    summary['visit_day'] = impact_day + time_delta\n",
    "\n",
    "    return summary\n"
   ]
  },
  {
   "cell_type": "code",
   "execution_count": null,
   "metadata": {},
   "outputs": [],
   "source": [
    "time_delta = 30\n",
    "\n",
    "print(str(datetime.now()) + ' Computing for time_delta = ' + str(time_delta))\n",
    "logger.info('Computing for time_delta = ' + str(time_delta))\n",
    "\n",
    "# get migration metrics for impacted users of each district - day\n",
    "migration_metrics_as_list = map(get_migration_metrics, district_day_all_permutations_list)\n",
    "\n",
    "# convert migration metrics list to dataframe\n",
    "# schema - ['origin_district', 'impact_day', 'impacted', 'visit_day', 101, 102, 103, ... 3401]        \n",
    "migration_metrics_column_major = pd.DataFrame(migration_metrics_as_list)\n",
    "\n",
    "print(str(datetime.now()) + ' Unpivoting dataset.')\n",
    "logger.info('Unpivoting dataset.')\n",
    "\n",
    "# convert to row major form\n",
    "# schema - ['origin_district', 'impact_day', 'impacted', 'visit_day', 'destination_district', 'visits']        \n",
    "migration_metrics = migration_metrics_column_major.melt(id_vars=['origin_district', 'impact_day', 'impacted', 'visit_day'], var_name='destination_district', value_name='visits')\n",
    "migration_metrics = migration_metrics.sort_values(['origin_district', 'impact_day']).reset_index(drop = True)\n",
    "migration_metrics = migration_metrics[['origin_district', 'impact_day', 'impacted', 'destination_district', 'visit_day', 'visits']]\n",
    "\n",
    "print(str(datetime.now()) + ' Saving dataset.')\n",
    "logger.info('Saving dataset.')\n",
    "migration_metrics.to_csv('/data/afg_anon/displacement_metrics/visits_per_district_day/using_2013-2020_data/time_delta_' + str(time_delta) + '_days.csv', index = False)\n",
    "\n",
    "    "
   ]
  },
  {
   "cell_type": "code",
   "execution_count": null,
   "metadata": {},
   "outputs": [],
   "source": []
  },
  {
   "cell_type": "code",
   "execution_count": null,
   "metadata": {},
   "outputs": [],
   "source": []
  }
 ],
 "metadata": {
  "kernelspec": {
   "display_name": "Python [conda env:.conda-smehra_dask]",
   "language": "python",
   "name": "conda-env-.conda-smehra_dask-py"
  },
  "language_info": {
   "codemirror_mode": {
    "name": "ipython",
    "version": 3
   },
   "file_extension": ".py",
   "mimetype": "text/x-python",
   "name": "python",
   "nbconvert_exporter": "python",
   "pygments_lexer": "ipython3",
   "version": "3.7.6"
  }
 },
 "nbformat": 4,
 "nbformat_minor": 4
}
