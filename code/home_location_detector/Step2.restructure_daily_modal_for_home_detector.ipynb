{
 "cells": [
  {
   "cell_type": "code",
   "execution_count": null,
   "metadata": {},
   "outputs": [],
   "source": [
    "from dask.distributed import Client, LocalCluster\n",
    "cluster = LocalCluster(dashboard_address='localhost:7920', \n",
    "                       n_workers=16, \n",
    "                       processes=True, \n",
    "                       threads_per_worker=16,\n",
    "                       memory_limit='24GB', \n",
    "                       local_directory=\"/path/to/dask-worker-space\")\n",
    "client = Client(cluster)\n",
    "\n",
    "import dask.dataframe as ddf\n",
    "import numpy as np\n",
    "import pandas as pd\n",
    "\n",
    "import shutil\n",
    "import gc\n",
    "gc.enable()\n",
    "\n",
    "import multiprocessing as mp\n",
    "\n",
    "import time\n",
    "from datetime import timedelta  \n",
    "from datetime import date\n",
    "from datetime import datetime\n",
    "from collections import Counter\n",
    "\n",
    "import os\n",
    "\n",
    "import matplotlib.pyplot as plt\n",
    "%matplotlib inline\n"
   ]
  },
  {
   "cell_type": "markdown",
   "metadata": {},
   "source": [
    "### get list of files"
   ]
  },
  {
   "cell_type": "code",
   "execution_count": null,
   "metadata": {},
   "outputs": [],
   "source": [
    "input_dir = '/path/to/data/daily_modal_location/using_rec_from_2013_to_2020/'\n",
    "spatial_granularity = 'district_level'\n",
    "output_dir = '/path/to/data/daily_modal_voice_version_bucketed/' + spatial_granularity + '/'\n",
    "\n",
    "files = []\n",
    "\n",
    "for year in os.listdir(input_dir + spatial_granularity):\n",
    "    \n",
    "    for month in os.listdir(input_dir + spatial_granularity + '/' + year):\n",
    "        \n",
    "        file_path = input_dir + spatial_granularity + '/' + year + '/' + month\n",
    "        files = files + [file_path]\n"
   ]
  },
  {
   "cell_type": "markdown",
   "metadata": {},
   "source": [
    "### get set of unique first letters of user id's"
   ]
  },
  {
   "cell_type": "code",
   "execution_count": null,
   "metadata": {},
   "outputs": [],
   "source": [
    "unique_first_letters = set()\n",
    "\n",
    "for f in files:\n",
    "\n",
    "    data = ddf.read_csv(f,\n",
    "                        dtype = {'caller_msisdn': str,\n",
    "                                 'day': str,\n",
    "                                 'daily_modal_location': 'int64'},\n",
    "                       usecols = ['caller_msisdn'])\n",
    "\n",
    "    data['caller_msisdn'] = data.caller_msisdn.str[:2]\n",
    "\n",
    "    data = data.compute()\n",
    "    \n",
    "    unique_first_letters.update(data.caller_msisdn.tolist())\n",
    "\n",
    "print(unique_first_letters)"
   ]
  },
  {
   "cell_type": "markdown",
   "metadata": {},
   "source": [
    "### sort datasets"
   ]
  },
  {
   "cell_type": "code",
   "execution_count": null,
   "metadata": {},
   "outputs": [],
   "source": [
    "for i in range(0, len(unique_first_letters)):\n",
    "\n",
    "    letter = unique_first_letters[i]\n",
    "    \n",
    "    print('computing for .. ' + str(i + 1) + '/' + str(len(unique_first_letters)) + ' ' + letter)\n",
    "    \n",
    "    data = ddf.read_csv(files,\n",
    "                        dtype = {'phoneHash1': str,\n",
    "                                 'day': str,\n",
    "                                 'daily_modal_location': 'float64'})\n",
    "\n",
    "    data['phoneHash1_first_letter'] = data.phoneHash1.str[:2]\n",
    "    \n",
    "    data = data[data.phoneHash1_first_letter == letter]\n",
    "    \n",
    "    data = data[['phoneHash1', 'day', 'daily_modal_location']]\n",
    "\n",
    "    data = data.compute()\n",
    "    \n",
    "    data.to_csv(output_dir + letter + '.csv', index = False)\n"
   ]
  },
  {
   "cell_type": "code",
   "execution_count": null,
   "metadata": {},
   "outputs": [],
   "source": []
  },
  {
   "cell_type": "code",
   "execution_count": null,
   "metadata": {},
   "outputs": [],
   "source": []
  }
 ],
 "metadata": {
  "kernelspec": {
   "display_name": "Python 3",
   "language": "python",
   "name": "python3"
  },
  "language_info": {
   "codemirror_mode": {
    "name": "ipython",
    "version": 3
   },
   "file_extension": ".py",
   "mimetype": "text/x-python",
   "name": "python",
   "nbconvert_exporter": "python",
   "pygments_lexer": "ipython3",
   "version": "3.9.1"
  }
 },
 "nbformat": 4,
 "nbformat_minor": 4
}
